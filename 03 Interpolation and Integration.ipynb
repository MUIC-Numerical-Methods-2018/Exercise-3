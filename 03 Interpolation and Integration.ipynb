{
 "cells": [
  {
   "cell_type": "markdown",
   "metadata": {},
   "source": [
    "## Exercise Interpolation"
   ]
  },
  {
   "cell_type": "code",
   "execution_count": 1,
   "metadata": {
    "ExecuteTime": {
     "end_time": "2021-09-29T06:24:31.853605Z",
     "start_time": "2021-09-29T06:24:27.876604Z"
    }
   },
   "outputs": [],
   "source": [
    "%matplotlib inline\n",
    "import math\n",
    "import numpy as np\n",
    "from matplotlib import pyplot as plt"
   ]
  },
  {
   "cell_type": "markdown",
   "metadata": {},
   "source": [
    "1) Plot these four points (2,3), (3,1), (4,2), (5,2)."
   ]
  },
  {
   "cell_type": "code",
   "execution_count": 7,
   "metadata": {
    "ExecuteTime": {
     "end_time": "2021-09-29T06:34:36.483041Z",
     "start_time": "2021-09-29T06:34:36.473680Z"
    }
   },
   "outputs": [
    {
     "data": {
      "text/plain": [
       "110"
      ]
     },
     "execution_count": 7,
     "metadata": {},
     "output_type": "execute_result"
    }
   ],
   "source": [
    "# higher order function\n",
    "# functor\n",
    "# function that returns function\n",
    "# partial\n",
    "def make_adder(c):\n",
    "    def ret(x):\n",
    "        return x + c\n",
    "    return ret\n",
    "\n",
    "f = make_adder(3)\n",
    "f(1)\n",
    "g = make_adder(10)\n",
    "g(100)"
   ]
  },
  {
   "cell_type": "code",
   "execution_count": 14,
   "metadata": {
    "ExecuteTime": {
     "end_time": "2021-09-29T06:56:28.263328Z",
     "start_time": "2021-09-29T06:56:28.241257Z"
    }
   },
   "outputs": [
    {
     "data": {
      "text/plain": [
       "1.0"
      ]
     },
     "execution_count": 14,
     "metadata": {},
     "output_type": "execute_result"
    }
   ],
   "source": [
    "from typing import List\n",
    "def generate_w(anchor: float, others: List[float]):\n",
    "    \"\"\"\n",
    "    return w(x) such that w(anchor) is 1 and w(x)=0 for all x in others\n",
    "    \"\"\"\n",
    "    def w(x):\n",
    "        numerator = np.prod([x-o for o in others])\n",
    "        denom = np.prod([anchor-o for o in others])\n",
    "        return numerator/denom\n",
    "    return w\n",
    "\n",
    "w = generate_w(1, [2, 3, 4.5])\n",
    "assert abs(w(1)-1) < 1e-7\n",
    "assert abs(w(2)) < 1e-7\n",
    "assert abs(w(3)) < 1e-7\n",
    "assert abs(w(4.5)) < 1e-7    \n",
    "assert abs(w(1)-1) < 1e-7\n",
    "assert abs(w(2)-0) < 1e-7\n",
    "\n",
    "generate_w(1, [2, 3, 4.5])(1)"
   ]
  },
  {
   "cell_type": "code",
   "execution_count": 12,
   "metadata": {
    "ExecuteTime": {
     "end_time": "2021-09-29T06:42:50.620421Z",
     "start_time": "2021-09-29T06:42:50.542836Z"
    }
   },
   "outputs": [],
   "source": [
    "?np.prod"
   ]
  },
  {
   "cell_type": "markdown",
   "metadata": {},
   "source": [
    "2) Find the polynomial of degree 3 that pass through these four points. Plot to verify."
   ]
  },
  {
   "cell_type": "code",
   "execution_count": 18,
   "metadata": {
    "ExecuteTime": {
     "end_time": "2021-09-29T07:05:00.977742Z",
     "start_time": "2021-09-29T07:05:00.968166Z"
    }
   },
   "outputs": [
    {
     "data": {
      "text/plain": [
       "[2, 3, 4]"
      ]
     },
     "execution_count": 18,
     "metadata": {},
     "output_type": "execute_result"
    }
   ],
   "source": [
    "a = [0,1,2,3,4]\n",
    "a[:2]\n",
    "a[2:]"
   ]
  },
  {
   "cell_type": "markdown",
   "metadata": {},
   "source": [
    "3) Find polynomial of degree 3 that pass through these four points. Plot to verify.\n",
    "\n",
    "(1,2) (2,0) (3,2) (7,1)"
   ]
  },
  {
   "cell_type": "code",
   "execution_count": 25,
   "metadata": {
    "ExecuteTime": {
     "end_time": "2021-09-29T07:07:52.741995Z",
     "start_time": "2021-09-29T07:07:52.529108Z"
    }
   },
   "outputs": [
    {
     "data": {
      "text/plain": [
       "[<matplotlib.lines.Line2D at 0x7fbaf81a3d30>]"
      ]
     },
     "execution_count": 25,
     "metadata": {},
     "output_type": "execute_result"
    },
    {
     "data": {
      "image/png": "[encoded data removed]",
      "text/plain": [
       "<Figure size 432x288 with 1 Axes>"
      ]
     },
     "metadata": {
      "image/png": {
       "height": 248,
       "width": 377
      },
      "needs_background": "light"
     },
     "output_type": "display_data"
    }
   ],
   "source": [
    "def make_lagrange(xs: List[float], ys: List[float]):\n",
    "    \"\"\"\n",
    "    return larange(x)\n",
    "    such that larange(x) = y for x,y in zip(xs, ys)\n",
    "    \"\"\"\n",
    "    ws = []\n",
    "    for x in enumerate(xs):\n",
    "        others = [a for a in xs if a!=x ]\n",
    "        ws.append(generate_w(x, others))\n",
    "        \n",
    "    def lagrange(x):\n",
    "        return sum(y*w(x) for w,y in zip(ws, ys))\n",
    "    return lagrange\n",
    "xs = [1,2,3,7]\n",
    "ys = [2,9,2,1]\n",
    "lagrange = make_lagrange(xs, ys)\n",
    "lagrange(7)\n",
    "plt.plot(xs, ys, 'xr')\n",
    "xxs = np.linspace(min(xs)-1, max(xs)+1, 100)\n",
    "yys = [lagrange(x) for x in xxs]\n",
    "plt.plot(xxs, yys, '-b')\n",
    "# lagrange(1) --> 2"
   ]
  },
  {
   "cell_type": "markdown",
   "metadata": {},
   "source": [
    "4) Write a function `ledendre(x)` which compute the legendre polynomial given the list of x values in xs and y values in ys.\n",
    "\n",
    "`legendre(1.5)`\n",
    "\n",
    "should have the same value as the polymial you found in 3) evaluated at x=1.5.\n",
    "\n",
    "For those of you who know functional programming try write a functor that return a polynomial."
   ]
  },
  {
   "cell_type": "code",
   "execution_count": null,
   "metadata": {},
   "outputs": [],
   "source": []
  },
  {
   "cell_type": "markdown",
   "metadata": {},
   "source": [
    "5) Now sample 11 points  from $f(x) = \\sin(x)$ for for $x\\in[0, \\pi]$. Plot $\\sin(x)$ along with those 11 points. Make sure your $\\sin(x)$ is plotted with more than 100 points"
   ]
  },
  {
   "cell_type": "code",
   "execution_count": null,
   "metadata": {},
   "outputs": [],
   "source": []
  },
  {
   "cell_type": "markdown",
   "metadata": {},
   "source": [
    "6) Plot legendre polynomial for these points. How similar is it to $\\sin(x)$ function. Make sure your legendre is plotte with at least 100 points."
   ]
  },
  {
   "cell_type": "code",
   "execution_count": null,
   "metadata": {
    "collapsed": true
   },
   "outputs": [],
   "source": []
  },
  {
   "cell_type": "markdown",
   "metadata": {},
   "source": [
    "7) Now sample 11 points  from $f(x) = \\sin(200x)$ for for $x\\in[0, \\pi]$. Plot $\\sin(200*x)$ along with those 11 points. Note the 200. Then plot legendre polynomial for these points."
   ]
  },
  {
   "cell_type": "code",
   "execution_count": null,
   "metadata": {},
   "outputs": [],
   "source": []
  },
  {
   "cell_type": "markdown",
   "metadata": {},
   "source": [
    "8) Does it pass through all the point? Does it look like the original function?"
   ]
  },
  {
   "cell_type": "code",
   "execution_count": null,
   "metadata": {
    "collapsed": true
   },
   "outputs": [],
   "source": []
  },
  {
   "cell_type": "markdown",
   "metadata": {},
   "source": [
    "## Exercise Integration"
   ]
  },
  {
   "cell_type": "markdown",
   "metadata": {},
   "source": [
    "0) What is $$ \\int \\limits_{x=1}^{x=3} x^3 \\; dx $$"
   ]
  },
  {
   "cell_type": "code",
   "execution_count": null,
   "metadata": {
    "collapsed": true
   },
   "outputs": [],
   "source": []
  },
  {
   "cell_type": "markdown",
   "metadata": {},
   "source": [
    "1)Use Trapezoid Rule to calculate\n",
    "\n",
    "$$ \\int \\limits_{x=1}^{x=3} x^3 \\; dx $$\n",
    "\n",
    "Using 1 piece."
   ]
  },
  {
   "cell_type": "code",
   "execution_count": null,
   "metadata": {
    "collapsed": true
   },
   "outputs": [],
   "source": []
  },
  {
   "cell_type": "markdown",
   "metadata": {},
   "source": [
    "2)Use Trapezoid Rule to calculate\n",
    "\n",
    "$$ \\int \\limits_{x=1}^{x=3} x^3 \\; dx $$\n",
    "\n",
    "Using 100 pieces."
   ]
  },
  {
   "cell_type": "code",
   "execution_count": 10,
   "metadata": {},
   "outputs": [
    {
     "name": "stdout",
     "output_type": "stream",
     "text": [
      "19.9996 20.002\n"
     ]
    }
   ],
   "source": []
  },
  {
   "cell_type": "markdown",
   "metadata": {},
   "source": [
    "3) What is the bound on error for 1)?"
   ]
  },
  {
   "cell_type": "code",
   "execution_count": 3,
   "metadata": {},
   "outputs": [
    {
     "data": {
      "text/plain": [
       "20.0"
      ]
     },
     "execution_count": 3,
     "metadata": {},
     "output_type": "execute_result"
    }
   ],
   "source": [
    "3**4/4 - 1/4"
   ]
  },
  {
   "cell_type": "markdown",
   "metadata": {},
   "source": [
    "4) What is the bound on error for 2)?"
   ]
  },
  {
   "cell_type": "code",
   "execution_count": null,
   "metadata": {
    "collapsed": true
   },
   "outputs": [],
   "source": []
  },
  {
   "cell_type": "markdown",
   "metadata": {},
   "source": [
    "5) Compute the following integral\n",
    "$$ \\int \\limits_{x=0}^{x=1} e^{-x} \\sin(x^2) \\; dx $$\n",
    "\n",
    "using 100 sub divisions. This is one of those integral you can't do by hands. "
   ]
  },
  {
   "cell_type": "code",
   "execution_count": null,
   "metadata": {
    "collapsed": true
   },
   "outputs": [],
   "source": []
  },
  {
   "cell_type": "markdown",
   "metadata": {},
   "source": [
    "6) If we want compute\n",
    "$$ \\int \\limits_{x=0}^{x=1} e^{-x} \\; dx $$\n",
    "that is at most $10^{-6}$ away from the real answer. How many subdivisions do we need?"
   ]
  },
  {
   "cell_type": "code",
   "execution_count": null,
   "metadata": {
    "collapsed": true
   },
   "outputs": [],
   "source": []
  },
  {
   "cell_type": "markdown",
   "metadata": {},
   "source": [
    "7) Compute the integral above and make sure your answer is at most $10^{-6}$ away from the real answer. "
   ]
  },
  {
   "cell_type": "code",
   "execution_count": null,
   "metadata": {
    "collapsed": true
   },
   "outputs": [],
   "source": []
  }
 ],
 "metadata": {
  "hide_input": false,
  "kernelspec": {
   "display_name": "Python 3",
   "language": "python",
   "name": "python3"
  },
  "language_info": {
   "codemirror_mode": {
    "name": "ipython",
    "version": 3
   },
   "file_extension": ".py",
   "mimetype": "text/x-python",
   "name": "python",
   "nbconvert_exporter": "python",
   "pygments_lexer": "ipython3",
   "version": "3.7.3"
  },
  "toc": {
   "colors": {
    "hover_highlight": "#DAA520",
    "running_highlight": "#FF0000",
    "selected_highlight": "#FFD700"
   },
   "moveMenuLeft": true,
   "nav_menu": {
    "height": "48px",
    "width": "251px"
   },
   "navigate_menu": true,
   "number_sections": false,
   "sideBar": true,
   "threshold": 4,
   "toc_cell": false,
   "toc_section_display": "block",
   "toc_window_display": false
  }
 },
 "nbformat": 4,
 "nbformat_minor": 1
}
